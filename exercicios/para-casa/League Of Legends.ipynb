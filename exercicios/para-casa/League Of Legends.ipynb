{
 "cells": [
  {
   "cell_type": "markdown",
   "metadata": {},
   "source": [
    "Como tarefa de casa eu escolhi um jogo para ser a minha base, e esse jogo é o jogo merda de League Of Legends, não recomendo e nem uso como parâmetro de um bom jogo. É viciante então mantenham-se longe. \n",
    "\n",
    "A ideia foi montar ranks de alguns atributos que os campeões possuem de base, nível um. Com essas informações eu trouxe oito ranks contendo dez posições e junto coloquei uma imagem em formato PNG do top um de cada uma das tabelas gráficas.\n",
    "\n",
    "Ao final terão duas tabelas que foi feita uma soma de dois atributos para ter um determinado resultado, que foi positivo embora a tabela gráfica tenha ficado confusa, masm deixei escrito a forma de leitura da mesma."
   ]
  },
  {
   "cell_type": "markdown",
   "metadata": {},
   "source": [
    "Segue o link para acesso ao trabalho da semana.\n",
    "\n",
    "https://public.tableau.com/app/profile/bruna.macedo.santos/viz/WorkHomeDoneinTableou_LeagueOfLegendsrank_BrunaBodecam/Dashboard1"
   ]
  }
 ],
 "metadata": {
  "language_info": {
   "name": "python"
  }
 },
 "nbformat": 4,
 "nbformat_minor": 2
}
