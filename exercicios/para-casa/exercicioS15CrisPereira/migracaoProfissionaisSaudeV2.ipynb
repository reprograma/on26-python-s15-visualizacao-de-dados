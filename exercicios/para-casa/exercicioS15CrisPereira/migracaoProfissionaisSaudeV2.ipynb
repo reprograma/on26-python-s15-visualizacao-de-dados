{
 "cells": [
  {
   "cell_type": "markdown",
   "metadata": {},
   "source": [
    "# Desafio da Semana 15 - Reprograma\n",
    "<p>Professora Deborah Foroni</p>\n",
    "<p>Aluna Cristiane Pereira</p>"
   ]
  },
  {
   "cell_type": "markdown",
   "metadata": {},
   "source": [
    "## Introdução\n",
    "Neste notebook preparamos um banco de dados da OCDE sobre a migração de profissionais de saúde, a fim de utilizá-lo no Tableau para gerar a visualização de 6 gráficos diferentes, conforme a seguir:  \n",
    "1. Gráfico de barras em que expressa divisão força de trabalho nos 10 países com mais profissionais.  \n",
    "2. Gráfico de barras com o topo 10 de países que mais recebem profissionais de saúde. \n",
    "3. Gráfico de barras com o topo 10 de países que mais enviam profissionais de saúde.  \n",
    "4. Mapa com o volume de países que recebem profissionais de saúde.\n",
    "5. Mapa com o volume de países que mais enviam profissionais de saúde.\n",
    "6. Gráfico de linha com a imigração de médicos versus a imigração de enfermeiras ao longo do tempo.\n"
   ]
  },
  {
   "cell_type": "code",
   "execution_count": 2,
   "metadata": {},
   "outputs": [],
   "source": [
    "import pandas as pd"
   ]
  },
  {
   "cell_type": "code",
   "execution_count": 3,
   "metadata": {},
   "outputs": [],
   "source": [
    "df_country_origin = pd.read_csv('Foreign-trained doctors - Country of origin.csv') \n",
    "df_country_destination = pd.read_csv('Health Workforce Migration - Total OCDE Countries.csv') "
   ]
  },
  {
   "cell_type": "code",
   "execution_count": 4,
   "metadata": {},
   "outputs": [
    {
     "data": {
      "text/plain": [
       "COU                      0\n",
       "Country                  0\n",
       "VAR                      0\n",
       "Variable                 0\n",
       "CO2                      0\n",
       "Country of origin        0\n",
       "YEA                      0\n",
       "Year                     0\n",
       "Value                    0\n",
       "Flag Codes           32796\n",
       "Flags                32796\n",
       "dtype: int64"
      ]
     },
     "execution_count": 4,
     "metadata": {},
     "output_type": "execute_result"
    }
   ],
   "source": [
    "#Verificando se há dados nulos\n",
    "df_country_destination.isnull().sum()\n",
    "df_country_origin.isnull().sum()"
   ]
  },
  {
   "cell_type": "code",
   "execution_count": 5,
   "metadata": {},
   "outputs": [
    {
     "data": {
      "text/plain": [
       "array(['Foreign-trained doctors - Stock'], dtype=object)"
      ]
     },
     "execution_count": 5,
     "metadata": {},
     "output_type": "execute_result"
    }
   ],
   "source": [
    "# Pensando em como criar a primeira visualização\n",
    "df_country_origin.Variable.unique()"
   ]
  },
  {
   "cell_type": "code",
   "execution_count": 6,
   "metadata": {},
   "outputs": [
    {
     "data": {
      "text/plain": [
       "array(['Total number of doctors', 'Domestically-trained doctors',\n",
       "       'Foreign-trained doctors - Stock',\n",
       "       'Unknown place of training (doctors)',\n",
       "       '% of foreign-trained doctors',\n",
       "       'Foreign-trained doctors - Annual inflow',\n",
       "       'Total number of nurses', 'Domestically-trained nurses',\n",
       "       'Foreign-trained nurses - Stock',\n",
       "       'Unknown place of training (nurses)',\n",
       "       '% of foreign-trained nurses',\n",
       "       'Foreign-trained nurses - Annual inflow',\n",
       "       'of which native-born but foreign-trained (doctors)',\n",
       "       'of which native-born but foreign-trained (nurses)'], dtype=object)"
      ]
     },
     "execution_count": 6,
     "metadata": {},
     "output_type": "execute_result"
    }
   ],
   "source": [
    "# Pensando em como criar a primeira visualização\n",
    "df_country_destination.Variable.unique()"
   ]
  },
  {
   "cell_type": "markdown",
   "metadata": {},
   "source": [
    "## Lógica\n",
    "<p>A tabela já tem a porcentagem de profissionais de saúde estrangeiros, agora quero completar o dado para chegar a 100%. </p>\n",
    "<p> Então, 100% dos profissionais de saúde = 'Foreign-trained doctors - Stock' + 'Domestically-trained doctors' + 'Domestically-trained nurses' + 'Foreign-trained nurses - Stock' + 'Unknown place of training (nurses)' + 'Unknown place of training (doctors)' </p>\n",
    "<p> Vou dividir o gráfico de barras em: profissionais estrangeiros, profissionais nacionais, profissionais de origem desconhecida.</p>"
   ]
  },
  {
   "cell_type": "code",
   "execution_count": 7,
   "metadata": {},
   "outputs": [
    {
     "data": {
      "text/html": [
       "<div>\n",
       "<style scoped>\n",
       "    .dataframe tbody tr th:only-of-type {\n",
       "        vertical-align: middle;\n",
       "    }\n",
       "\n",
       "    .dataframe tbody tr th {\n",
       "        vertical-align: top;\n",
       "    }\n",
       "\n",
       "    .dataframe thead th {\n",
       "        text-align: right;\n",
       "    }\n",
       "</style>\n",
       "<table border=\"1\" class=\"dataframe\">\n",
       "  <thead>\n",
       "    <tr style=\"text-align: right;\">\n",
       "      <th></th>\n",
       "      <th>COU</th>\n",
       "      <th>Country</th>\n",
       "      <th>VAR</th>\n",
       "      <th>Variable</th>\n",
       "      <th>CO2</th>\n",
       "      <th>Country of origin</th>\n",
       "      <th>YEA</th>\n",
       "      <th>Year</th>\n",
       "      <th>Value</th>\n",
       "      <th>Flag Codes</th>\n",
       "      <th>Flags</th>\n",
       "    </tr>\n",
       "  </thead>\n",
       "  <tbody>\n",
       "    <tr>\n",
       "      <th>115</th>\n",
       "      <td>AUT</td>\n",
       "      <td>Austria</td>\n",
       "      <td>TNBD</td>\n",
       "      <td>Total number of doctors</td>\n",
       "      <td>TOT</td>\n",
       "      <td>Total</td>\n",
       "      <td>2022</td>\n",
       "      <td>2022</td>\n",
       "      <td>40957.00</td>\n",
       "      <td>NaN</td>\n",
       "      <td>NaN</td>\n",
       "    </tr>\n",
       "    <tr>\n",
       "      <th>128</th>\n",
       "      <td>AUT</td>\n",
       "      <td>Austria</td>\n",
       "      <td>DTRD</td>\n",
       "      <td>Domestically-trained doctors</td>\n",
       "      <td>TOT</td>\n",
       "      <td>Total</td>\n",
       "      <td>2022</td>\n",
       "      <td>2022</td>\n",
       "      <td>38023.00</td>\n",
       "      <td>NaN</td>\n",
       "      <td>NaN</td>\n",
       "    </tr>\n",
       "    <tr>\n",
       "      <th>141</th>\n",
       "      <td>AUT</td>\n",
       "      <td>Austria</td>\n",
       "      <td>FTDS</td>\n",
       "      <td>Foreign-trained doctors - Stock</td>\n",
       "      <td>TOT</td>\n",
       "      <td>Total</td>\n",
       "      <td>2022</td>\n",
       "      <td>2022</td>\n",
       "      <td>2934.00</td>\n",
       "      <td>NaN</td>\n",
       "      <td>NaN</td>\n",
       "    </tr>\n",
       "    <tr>\n",
       "      <th>154</th>\n",
       "      <td>AUT</td>\n",
       "      <td>Austria</td>\n",
       "      <td>SFTD</td>\n",
       "      <td>% of foreign-trained doctors</td>\n",
       "      <td>TOT</td>\n",
       "      <td>Total</td>\n",
       "      <td>2022</td>\n",
       "      <td>2022</td>\n",
       "      <td>7.16</td>\n",
       "      <td>NaN</td>\n",
       "      <td>NaN</td>\n",
       "    </tr>\n",
       "    <tr>\n",
       "      <th>167</th>\n",
       "      <td>AUT</td>\n",
       "      <td>Austria</td>\n",
       "      <td>IFTD</td>\n",
       "      <td>Foreign-trained doctors - Annual inflow</td>\n",
       "      <td>TOT</td>\n",
       "      <td>Total</td>\n",
       "      <td>2022</td>\n",
       "      <td>2022</td>\n",
       "      <td>253.00</td>\n",
       "      <td>NaN</td>\n",
       "      <td>NaN</td>\n",
       "    </tr>\n",
       "    <tr>\n",
       "      <th>...</th>\n",
       "      <td>...</td>\n",
       "      <td>...</td>\n",
       "      <td>...</td>\n",
       "      <td>...</td>\n",
       "      <td>...</td>\n",
       "      <td>...</td>\n",
       "      <td>...</td>\n",
       "      <td>...</td>\n",
       "      <td>...</td>\n",
       "      <td>...</td>\n",
       "      <td>...</td>\n",
       "    </tr>\n",
       "    <tr>\n",
       "      <th>3575</th>\n",
       "      <td>LTU</td>\n",
       "      <td>Lithuania</td>\n",
       "      <td>UUUN</td>\n",
       "      <td>Unknown place of training (nurses)</td>\n",
       "      <td>TOT</td>\n",
       "      <td>Total</td>\n",
       "      <td>2022</td>\n",
       "      <td>2022</td>\n",
       "      <td>97.00</td>\n",
       "      <td>NaN</td>\n",
       "      <td>NaN</td>\n",
       "    </tr>\n",
       "    <tr>\n",
       "      <th>3657</th>\n",
       "      <td>IRL</td>\n",
       "      <td>Ireland</td>\n",
       "      <td>UUUN</td>\n",
       "      <td>Unknown place of training (nurses)</td>\n",
       "      <td>TOT</td>\n",
       "      <td>Total</td>\n",
       "      <td>2022</td>\n",
       "      <td>2022</td>\n",
       "      <td>5.00</td>\n",
       "      <td>NaN</td>\n",
       "      <td>NaN</td>\n",
       "    </tr>\n",
       "    <tr>\n",
       "      <th>3659</th>\n",
       "      <td>IRL</td>\n",
       "      <td>Ireland</td>\n",
       "      <td>DTRN</td>\n",
       "      <td>Domestically-trained nurses</td>\n",
       "      <td>TOT</td>\n",
       "      <td>Total</td>\n",
       "      <td>2022</td>\n",
       "      <td>2022</td>\n",
       "      <td>34533.00</td>\n",
       "      <td>NaN</td>\n",
       "      <td>NaN</td>\n",
       "    </tr>\n",
       "    <tr>\n",
       "      <th>3714</th>\n",
       "      <td>IRL</td>\n",
       "      <td>Ireland</td>\n",
       "      <td>FTNS</td>\n",
       "      <td>Foreign-trained nurses - Stock</td>\n",
       "      <td>TOT</td>\n",
       "      <td>Total</td>\n",
       "      <td>2022</td>\n",
       "      <td>2022</td>\n",
       "      <td>33270.00</td>\n",
       "      <td>NaN</td>\n",
       "      <td>NaN</td>\n",
       "    </tr>\n",
       "    <tr>\n",
       "      <th>3743</th>\n",
       "      <td>IRL</td>\n",
       "      <td>Ireland</td>\n",
       "      <td>NFTN</td>\n",
       "      <td>of which native-born but foreign-trained (nurses)</td>\n",
       "      <td>TOT</td>\n",
       "      <td>Total</td>\n",
       "      <td>2022</td>\n",
       "      <td>2022</td>\n",
       "      <td>7851.00</td>\n",
       "      <td>NaN</td>\n",
       "      <td>NaN</td>\n",
       "    </tr>\n",
       "  </tbody>\n",
       "</table>\n",
       "<p>114 rows × 11 columns</p>\n",
       "</div>"
      ],
      "text/plain": [
       "      COU    Country   VAR                                           Variable  \\\n",
       "115   AUT    Austria  TNBD                            Total number of doctors   \n",
       "128   AUT    Austria  DTRD                       Domestically-trained doctors   \n",
       "141   AUT    Austria  FTDS                    Foreign-trained doctors - Stock   \n",
       "154   AUT    Austria  SFTD                       % of foreign-trained doctors   \n",
       "167   AUT    Austria  IFTD            Foreign-trained doctors - Annual inflow   \n",
       "...   ...        ...   ...                                                ...   \n",
       "3575  LTU  Lithuania  UUUN                 Unknown place of training (nurses)   \n",
       "3657  IRL    Ireland  UUUN                 Unknown place of training (nurses)   \n",
       "3659  IRL    Ireland  DTRN                        Domestically-trained nurses   \n",
       "3714  IRL    Ireland  FTNS                     Foreign-trained nurses - Stock   \n",
       "3743  IRL    Ireland  NFTN  of which native-born but foreign-trained (nurses)   \n",
       "\n",
       "      CO2 Country of origin   YEA  Year     Value Flag Codes Flags  \n",
       "115   TOT             Total  2022  2022  40957.00        NaN   NaN  \n",
       "128   TOT             Total  2022  2022  38023.00        NaN   NaN  \n",
       "141   TOT             Total  2022  2022   2934.00        NaN   NaN  \n",
       "154   TOT             Total  2022  2022      7.16        NaN   NaN  \n",
       "167   TOT             Total  2022  2022    253.00        NaN   NaN  \n",
       "...   ...               ...   ...   ...       ...        ...   ...  \n",
       "3575  TOT             Total  2022  2022     97.00        NaN   NaN  \n",
       "3657  TOT             Total  2022  2022      5.00        NaN   NaN  \n",
       "3659  TOT             Total  2022  2022  34533.00        NaN   NaN  \n",
       "3714  TOT             Total  2022  2022  33270.00        NaN   NaN  \n",
       "3743  TOT             Total  2022  2022   7851.00        NaN   NaN  \n",
       "\n",
       "[114 rows x 11 columns]"
      ]
     },
     "execution_count": 7,
     "metadata": {},
     "output_type": "execute_result"
    }
   ],
   "source": [
    "df_destination_year_filter = df_country_destination[df_country_destination[\"Year\"]==2022]\n",
    "df_destination_year_filter"
   ]
  },
  {
   "cell_type": "code",
   "execution_count": 15,
   "metadata": {},
   "outputs": [],
   "source": [
    "df_health_professionals = df_destination_year_filter[(df_destination_year_filter[\"Variable\"]==\"Foreign-trained doctors - Stock\") & (df_destination_year_filter[\"Variable\"]==\"Foreign-trained nurses - Stock\") & (df_destination_year_filter[\"Variable\"]==\"Domestically-trained doctors\") & (df_destination_year_filter[\"Variable\"]==\"Domestically-trained nurses\") & (df_destination_year_filter[\"Variable\"]==\"Unknown place of training (doctors)\") & (df_destination_year_filter[\"Variable\"]==\"Unknown place of training (nurses)\")] "
   ]
  },
  {
   "cell_type": "code",
   "execution_count": 18,
   "metadata": {},
   "outputs": [
    {
     "data": {
      "text/html": [
       "<div>\n",
       "<style scoped>\n",
       "    .dataframe tbody tr th:only-of-type {\n",
       "        vertical-align: middle;\n",
       "    }\n",
       "\n",
       "    .dataframe tbody tr th {\n",
       "        vertical-align: top;\n",
       "    }\n",
       "\n",
       "    .dataframe thead th {\n",
       "        text-align: right;\n",
       "    }\n",
       "</style>\n",
       "<table border=\"1\" class=\"dataframe\">\n",
       "  <thead>\n",
       "    <tr style=\"text-align: right;\">\n",
       "      <th></th>\n",
       "      <th>COU</th>\n",
       "      <th>Country</th>\n",
       "      <th>VAR</th>\n",
       "      <th>Variable</th>\n",
       "      <th>CO2</th>\n",
       "      <th>Country of origin</th>\n",
       "      <th>YEA</th>\n",
       "      <th>Year</th>\n",
       "      <th>Value</th>\n",
       "      <th>Flag Codes</th>\n",
       "      <th>Flags</th>\n",
       "    </tr>\n",
       "  </thead>\n",
       "  <tbody>\n",
       "  </tbody>\n",
       "</table>\n",
       "</div>"
      ],
      "text/plain": [
       "Empty DataFrame\n",
       "Columns: [COU, Country, VAR, Variable, CO2, Country of origin, YEA, Year, Value, Flag Codes, Flags]\n",
       "Index: []"
      ]
     },
     "execution_count": 18,
     "metadata": {},
     "output_type": "execute_result"
    }
   ],
   "source": [
    "df_health_professionals"
   ]
  },
  {
   "cell_type": "code",
   "execution_count": 17,
   "metadata": {},
   "outputs": [],
   "source": [
    "df_health_professionals.to_csv(\"df_health_professionals.csv\")"
   ]
  }
 ],
 "metadata": {
  "kernelspec": {
   "display_name": "Python 3",
   "language": "python",
   "name": "python3"
  },
  "language_info": {
   "codemirror_mode": {
    "name": "ipython",
    "version": 3
   },
   "file_extension": ".py",
   "mimetype": "text/x-python",
   "name": "python",
   "nbconvert_exporter": "python",
   "pygments_lexer": "ipython3",
   "version": "3.11.4"
  }
 },
 "nbformat": 4,
 "nbformat_minor": 2
}
