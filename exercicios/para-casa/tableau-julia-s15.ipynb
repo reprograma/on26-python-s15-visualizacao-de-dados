{
 "cells": [
  {
   "cell_type": "markdown",
   "metadata": {},
   "source": [
    "https://public.tableau.com/views/Anlisesrepros15/Painel1?:language=pt-BR&:display_count=n&:origin=viz_share_link\n",
    "\n",
    "https://public.tableau.com/views/dash2_17000619454970/Painel2?:language=pt-BR&:display_count=n&:origin=viz_share_link\n",
    "\n",
    "\n"
   ]
  },
  {
   "cell_type": "markdown",
   "metadata": {},
   "source": [
    "<img src = \"dash1.png\">"
   ]
  },
  {
   "cell_type": "markdown",
   "metadata": {},
   "source": [
    "<img src =\"dash2.png\">"
   ]
  }
 ],
 "metadata": {
  "language_info": {
   "name": "python"
  }
 },
 "nbformat": 4,
 "nbformat_minor": 2
}
