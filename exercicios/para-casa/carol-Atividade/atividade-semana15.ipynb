{
 "cells": [
  {
   "cell_type": "markdown",
   "metadata": {},
   "source": [
    "### Links Tableu\n",
    "\n",
    "###### https://public.tableau.com/views/Atividade_Semana_15/Painel1?:language=pt-BR&:display_count=n&:origin=viz_share_link\n",
    "\n",
    "\n",
    "###### https://public.tableau.com/views/Atividade_Semana_15/Painel2?:language=pt-BR&:display_count=n&:origin=viz_share_link\n"
   ]
  },
  {
   "cell_type": "markdown",
   "metadata": {},
   "source": [
    "![](tableu2-dataset-olist.png)\n"
   ]
  },
  {
   "cell_type": "markdown",
   "metadata": {},
   "source": [
    "![](tableu1-dataset-olist.png)\n"
   ]
  }
 ],
 "metadata": {
  "language_info": {
   "name": "python"
  }
 },
 "nbformat": 4,
 "nbformat_minor": 2
}
