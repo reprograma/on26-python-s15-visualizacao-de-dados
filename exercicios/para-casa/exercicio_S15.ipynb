{
 "cells": [
  {
   "cell_type": "markdown",
   "metadata": {},
   "source": [
    "#  Games Graphics\n"
   ]
  },
  {
   "cell_type": "markdown",
   "metadata": {},
   "source": [
    "Nesta semana, o desafio consiste em criar um dashboard no Tableau, será utilizado o banco de dados \"Games.csv\" obtido do Kaggle, que contém informações sobre Games para computador, como quem  são os editores e desenvolvedores mais populares e quais jogos são os mais populares, gêneros e data de lançamento. O objetivo é aplicar nossos conhecimentos em Visualização de Dados, desenvolvendo pelo menos oito visualizações distintas, conforme solicitado,  fornecendo uma representação clara e informativa dos dados, enriquecendo a base conforme necessário. \n",
    "\n",
    "Abaixo temos, o link do dashboard que foi publicado no Tableau Web, e capturas de tela das telas finais. \n",
    "\n",
    "Para ajudar na visulaização dos dados fiz um tratamento dos dados usando o Pandas, retirando todos os dados nulos e removendo algumas linhas. Convertendo valores da coluna sales para float, e selecioando apenas os 50 mais bem avaliados jogos do banco de dados."
   ]
  },
  {
   "cell_type": "markdown",
   "metadata": {},
   "source": [
    "Link do Banco de Dados no Kaggle: https://www.kaggle.com/datasets/khaiid/most-selling-pc-games\n",
    "\n",
    "Nome do novo CSV criado: *__top_50_games.csv__*\n",
    "\n",
    "Nome do arquivo de tratamento de dados: __games_data.ipynb__\n",
    "\n",
    "Link Painel do Tableau: https://public.tableau.com/views/Top50Games/Painel1?:language=pt-BR&:display_count=n&:origin=viz_share_link\n",
    "\n"
   ]
  },
  {
   "cell_type": "markdown",
   "metadata": {},
   "source": [
    "## __Games Graphic no Tableu__\n",
    "\n"
   ]
  },
  {
   "cell_type": "markdown",
   "metadata": {},
   "source": [
    "![](Painel.png)"
   ]
  },
  {
   "cell_type": "markdown",
   "metadata": {},
   "source": [
    "## Prints Páginas dos Gráficos"
   ]
  },
  {
   "cell_type": "markdown",
   "metadata": {},
   "source": [
    "### - Gráfico 1: Gráfico de Vendas por Gênero\n",
    "\n"
   ]
  },
  {
   "cell_type": "markdown",
   "metadata": {},
   "source": [
    "![](print1.png)"
   ]
  },
  {
   "cell_type": "markdown",
   "metadata": {},
   "source": [
    "### - Gráfico 2: 10 Principais Editoras por Vendas"
   ]
  },
  {
   "cell_type": "markdown",
   "metadata": {},
   "source": [
    "![](print2.png)"
   ]
  },
  {
   "cell_type": "markdown",
   "metadata": {},
   "source": [
    "### - Gráfico 3: Vendas ao Longo do Tempo"
   ]
  },
  {
   "cell_type": "markdown",
   "metadata": {},
   "source": [
    "![](print3.png)"
   ]
  },
  {
   "cell_type": "markdown",
   "metadata": {},
   "source": [
    "### - Gráfico 4: 10 Principais Desenvolvedoras por Vendas"
   ]
  },
  {
   "cell_type": "markdown",
   "metadata": {},
   "source": [
    "![](print4.png)"
   ]
  },
  {
   "cell_type": "markdown",
   "metadata": {},
   "source": [
    "\n",
    "### - Gráfico 5: Séries e Números  de Jogos"
   ]
  },
  {
   "cell_type": "markdown",
   "metadata": {},
   "source": [
    "![](print5.png)"
   ]
  },
  {
   "cell_type": "markdown",
   "metadata": {},
   "source": [
    "### - Gráfico 6: Top 10 Jogos mais Vendidos"
   ]
  },
  {
   "cell_type": "markdown",
   "metadata": {},
   "source": [
    "![](print6.png)"
   ]
  }
 ],
 "metadata": {
  "kernelspec": {
   "display_name": "Python 3",
   "language": "python",
   "name": "python3"
  },
  "language_info": {
   "name": "python",
   "version": "3.10.11"
  }
 },
 "nbformat": 4,
 "nbformat_minor": 2
}
