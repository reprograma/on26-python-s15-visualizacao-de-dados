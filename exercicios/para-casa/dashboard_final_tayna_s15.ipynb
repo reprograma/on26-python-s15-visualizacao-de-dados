{
 "cells": [
  {
   "cell_type": "markdown",
   "metadata": {},
   "source": [
    "## ✅ Desafio semana 15 : notebook exploratório\n",
    "\n",
    "Para construção dos dashboards usei o arquivo `base_final_s14_olist_tayna.csv`.\n",
    "\n",
    "### 1° Dashboard: produtos e avaliação\n",
    "\n",
    "![](imgs/dashboard1.png)\n",
    "\n",
    "### 2° Dashboard: vendedores e avaliações recebidas\n",
    "\n",
    "![](imgs/dashboard2.png)"
   ]
  },
  {
   "cell_type": "markdown",
   "metadata": {},
   "source": [
    "## Cálculos do Tableau: visualização individual \n",
    "\n",
    "Link de acesso: https://public.tableau.com/views/Entrega_Semana15/Planilha2?:language=pt-BR&:display_count=n&:origin=viz_share_link\n",
    "\n",
    "![](imgs/planilha1.png)\n",
    "\n",
    "Link de acesso: https://public.tableau.com/views/Entrega_Semana15/grafico1_classificacao_categorias_produtos?:language=pt-BR&:display_count=n&:origin=viz_share_link\n",
    "\n",
    "![](imgs/planilha2.png)\n",
    "\n",
    "Link de acesso:https: https://public.tableau.com/views/Entrega_Semana15/Planilha8?:language=pt-BR&:display_count=n&:origin=viz_share_link\n",
    "\n",
    "![](imgs/planilha8.png)\n",
    "\n",
    "Link de acesso: https://public.tableau.com/views/Entrega_Semana15/Planilha3?:language=pt-BR&:display_count=n&:origin=viz_share_link\n",
    "\n",
    "![](imgs/planilha3.png)\n",
    "\n",
    "Link de acesso: https://public.tableau.com/views/Entrega_Semana15/Planilha4?:language=pt-BR&:display_count=n&:origin=viz_share_link\n",
    "\n",
    "![](imgs/planilha4.png)\n",
    "\n",
    "Link de acesso: https://public.tableau.com/views/Entrega_Semana15/Planilha6?:language=pt-BR&:display_count=n&:origin=viz_share_link\n",
    "\n",
    "![](imgs/planilha6.png)\n",
    "\n",
    "Link de acesso: https://public.tableau.com/views/Entrega_Semana15/Planilha5?:language=pt-BR&:display_count=n&:origin=viz_share_link\n",
    "\n",
    "![](imgs/planilha5.png)\n",
    "\n",
    "\n",
    "\n"
   ]
  }
 ],
 "metadata": {
  "language_info": {
   "name": "python"
  }
 },
 "nbformat": 4,
 "nbformat_minor": 2
}
