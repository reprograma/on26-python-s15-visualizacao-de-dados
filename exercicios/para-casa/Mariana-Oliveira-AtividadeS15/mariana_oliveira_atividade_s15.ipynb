{
 "cells": [
  {
   "cell_type": "markdown",
   "metadata": {},
   "source": [
    "### Contexto da análise apresentada nos dashboards\n",
    "Uma pessoa solicitou informações sobre as vendas dos livros de interesse geral e técnicos e a modalidade de pagamento preferida dos compradores desses produtos no estado do RJ e, particularmente, na região serrana. \n",
    "\n",
    "Obs: a base de dados utilizada foi a mesma gerada na atividade da semana 14."
   ]
  },
  {
   "cell_type": "code",
   "execution_count": 1,
   "metadata": {},
   "outputs": [],
   "source": [
    "import pandas as pd"
   ]
  },
  {
   "cell_type": "code",
   "execution_count": null,
   "metadata": {},
   "outputs": [],
   "source": [
    "df = pd.read_csv('exercicios.csv') #leitura da base de dados gerada na semana 14\n",
    "df"
   ]
  },
  {
   "cell_type": "markdown",
   "metadata": {},
   "source": [
    "### Link para os painéis\n",
    "\n",
    "* Painel 1: https://public.tableau.com/views/Mariana_Oliveira-Reprograma_atividade/Painel1?:language=pt-BR&:display_count=n&:origin=viz_share_link\n",
    "* Painel 2: https://public.tableau.com/views/Mariana_Oliveira-Reprograma_atividade/Painel2?:language=pt-BR&:display_count=n&:origin=viz_share_link\n",
    "* Painel 3: https://public.tableau.com/views/Mariana_Oliveira-Reprograma_atividade/Painel3?:language=pt-BR&:display_count=n&:origin=viz_share_link"
   ]
  }
 ],
 "metadata": {
  "kernelspec": {
   "display_name": "Python 3",
   "language": "python",
   "name": "python3"
  },
  "language_info": {
   "codemirror_mode": {
    "name": "ipython",
    "version": 3
   },
   "file_extension": ".py",
   "mimetype": "text/x-python",
   "name": "python",
   "nbconvert_exporter": "python",
   "pygments_lexer": "ipython3",
   "version": "3.11.1"
  }
 },
 "nbformat": 4,
 "nbformat_minor": 2
}
