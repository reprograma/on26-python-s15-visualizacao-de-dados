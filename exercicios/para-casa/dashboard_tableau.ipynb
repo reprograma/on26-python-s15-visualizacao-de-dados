{
 "cells": [
  {
   "cell_type": "markdown",
   "metadata": {},
   "source": [
    "#   Dashboard no Tableau\n",
    "\n",
    "Segue link para acesso ao dash publicado no [Tableau](https://public.tableau.com/views/analise_rh/Painel12?:language=pt-BR&:display_count=n&:origin=viz_share_link).\n",
    "\n",
    "Nos arquivos temos: \n",
    "\n",
    "* Origem dos dados que foi retirado do [Kaggle](https://www.kaggle.com/datasets/rhuebner/human-resources-data-set/code);\n",
    "* Os tratamentos feitos nos dados;\n",
    "* Novo arquivo dados_rh que foi utilizado para a contrução do Dash;\n",
    "* Imagem pra mostra como o dash ficou visualmente;\n",
    "\n",
    "O Dashboard visa analisar a área de TI da empresa do ponto de vista de Recursos Humanos. Ele apresenta uma visão global do número atual de colaboradores, seguido por uma análise detalhada da TI. Os elementos abordados incluem identificação por cargo, evolução ao longo dos anos, ferramentas utilizadas no processo de admissão, ano de maior contratação, dados demográficos (raça, gênero), informações salariais, satisfação dos funcionários e desempenho. O objetivo é oferecer uma perspectiva abrangente e detalhada da situação atual da TI, facilitando a tomada de decisões estratégicas.\n",
    "\n"
   ]
  },
  {
   "cell_type": "markdown",
   "metadata": {},
   "source": [
    "![Dash](rh.png)\n"
   ]
  }
 ],
 "metadata": {
  "language_info": {
   "name": "python"
  }
 },
 "nbformat": 4,
 "nbformat_minor": 2
}
